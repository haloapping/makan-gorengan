{
 "cells": [
  {
   "cell_type": "markdown",
   "id": "6cc2c1d4",
   "metadata": {
    "slideshow": {
     "slide_type": "slide"
    }
   },
   "source": [
    "# Import Modules"
   ]
  },
  {
   "cell_type": "code",
   "execution_count": 1,
   "id": "8afe88a0",
   "metadata": {
    "ExecuteTime": {
     "end_time": "2022-03-10T03:05:46.321691Z",
     "start_time": "2022-03-10T03:05:41.303076Z"
    }
   },
   "outputs": [
    {
     "name": "stdout",
     "output_type": "stream",
     "text": [
      "Matplotlib version: 3.5.1\n",
      "Pandas version: 1.1.3\n"
     ]
    }
   ],
   "source": [
    "import matplotlib\n",
    "import matplotlib.pyplot as plt\n",
    "import pandas as pd\n",
    "\n",
    "print(f\"Matplotlib version: {matplotlib.__version__}\")\n",
    "print(f\"Pandas version: {pd.__version__}\")"
   ]
  },
  {
   "cell_type": "markdown",
   "id": "8991aff1",
   "metadata": {
    "slideshow": {
     "slide_type": "slide"
    }
   },
   "source": [
    "# Sample Dataset"
   ]
  },
  {
   "cell_type": "code",
   "execution_count": 2,
   "id": "ca983472",
   "metadata": {
    "ExecuteTime": {
     "end_time": "2022-03-10T03:05:46.399057Z",
     "start_time": "2022-03-10T03:05:46.330084Z"
    }
   },
   "outputs": [
    {
     "data": {
      "text/html": [
       "<div>\n",
       "<style scoped>\n",
       "    .dataframe tbody tr th:only-of-type {\n",
       "        vertical-align: middle;\n",
       "    }\n",
       "\n",
       "    .dataframe tbody tr th {\n",
       "        vertical-align: top;\n",
       "    }\n",
       "\n",
       "    .dataframe thead th {\n",
       "        text-align: right;\n",
       "    }\n",
       "</style>\n",
       "<table border=\"1\" class=\"dataframe\">\n",
       "  <thead>\n",
       "    <tr style=\"text-align: right;\">\n",
       "      <th></th>\n",
       "      <th>nama</th>\n",
       "      <th>usia</th>\n",
       "      <th>gender</th>\n",
       "      <th>propinsi</th>\n",
       "      <th>n_anak</th>\n",
       "      <th>n_pets</th>\n",
       "    </tr>\n",
       "  </thead>\n",
       "  <tbody>\n",
       "    <tr>\n",
       "      <th>0</th>\n",
       "      <td>cecep</td>\n",
       "      <td>23</td>\n",
       "      <td>L</td>\n",
       "      <td>jabar</td>\n",
       "      <td>2</td>\n",
       "      <td>5</td>\n",
       "    </tr>\n",
       "    <tr>\n",
       "      <th>1</th>\n",
       "      <td>karti</td>\n",
       "      <td>78</td>\n",
       "      <td>P</td>\n",
       "      <td>jatim</td>\n",
       "      <td>0</td>\n",
       "      <td>1</td>\n",
       "    </tr>\n",
       "    <tr>\n",
       "      <th>2</th>\n",
       "      <td>bejo</td>\n",
       "      <td>22</td>\n",
       "      <td>L</td>\n",
       "      <td>jabar</td>\n",
       "      <td>0</td>\n",
       "      <td>0</td>\n",
       "    </tr>\n",
       "    <tr>\n",
       "      <th>3</th>\n",
       "      <td>tejo</td>\n",
       "      <td>19</td>\n",
       "      <td>L</td>\n",
       "      <td>jatim</td>\n",
       "      <td>3</td>\n",
       "      <td>5</td>\n",
       "    </tr>\n",
       "    <tr>\n",
       "      <th>4</th>\n",
       "      <td>asep</td>\n",
       "      <td>45</td>\n",
       "      <td>L</td>\n",
       "      <td>jabar</td>\n",
       "      <td>2</td>\n",
       "      <td>2</td>\n",
       "    </tr>\n",
       "    <tr>\n",
       "      <th>5</th>\n",
       "      <td>wati</td>\n",
       "      <td>33</td>\n",
       "      <td>P</td>\n",
       "      <td>jateng</td>\n",
       "      <td>1</td>\n",
       "      <td>2</td>\n",
       "    </tr>\n",
       "    <tr>\n",
       "      <th>6</th>\n",
       "      <td>amat</td>\n",
       "      <td>20</td>\n",
       "      <td>L</td>\n",
       "      <td>jateng</td>\n",
       "      <td>4</td>\n",
       "      <td>3</td>\n",
       "    </tr>\n",
       "  </tbody>\n",
       "</table>\n",
       "</div>"
      ],
      "text/plain": [
       "    nama  usia gender propinsi  n_anak  n_pets\n",
       "0  cecep    23      L    jabar       2       5\n",
       "1  karti    78      P    jatim       0       1\n",
       "2   bejo    22      L    jabar       0       0\n",
       "3   tejo    19      L    jatim       3       5\n",
       "4   asep    45      L    jabar       2       2\n",
       "5   wati    33      P   jateng       1       2\n",
       "6   amat    20      L   jateng       4       3"
      ]
     },
     "execution_count": 2,
     "metadata": {},
     "output_type": "execute_result"
    }
   ],
   "source": [
    "df = pd.DataFrame(\n",
    "         data={\n",
    "             'nama': ['cecep', 'karti', 'bejo', 'tejo', 'asep', 'wati', 'amat'],\n",
    "             'usia': [23, 78, 22, 19, 45, 33, 20],\n",
    "             'gender': ['L', 'P', 'L', 'L', 'L', 'P', 'L'],\n",
    "             'propinsi': ['jabar', 'jatim', 'jabar', 'jatim', 'jabar', 'jateng', 'jateng'],\n",
    "             'n_anak': [2, 0, 0, 3, 2, 1, 4],\n",
    "             'n_pets': [5, 1, 0, 5, 2, 2, 3]\n",
    "         }\n",
    "     )\n",
    "\n",
    "df"
   ]
  },
  {
   "cell_type": "markdown",
   "id": "03b3d411",
   "metadata": {
    "slideshow": {
     "slide_type": "slide"
    }
   },
   "source": [
    "# Scatter Plot"
   ]
  },
  {
   "cell_type": "code",
   "execution_count": 3,
   "id": "d9588d8d",
   "metadata": {
    "ExecuteTime": {
     "end_time": "2022-03-10T03:05:47.374829Z",
     "start_time": "2022-03-10T03:05:46.406857Z"
    },
    "run_control": {
     "marked": false
    }
   },
   "outputs": [
    {
     "data": {
      "image/png": "[encoded data removed]",
      "text/plain": [
       "<Figure size 432x288 with 1 Axes>"
      ]
     },
     "metadata": {
      "needs_background": "light"
     },
     "output_type": "display_data"
    }
   ],
   "source": [
    "df.plot(kind=\"scatter\",\n",
    "        x=\"n_anak\",\n",
    "        y=\"n_pets\",\n",
    "        color=\"green\",\n",
    "        marker=\"^\")\n",
    "\n",
    "plt.title(\"Scatter Plot\")\n",
    "plt.xlabel(\"Jumlah Anak\")\n",
    "plt.ylabel(\"Jumlah Hewan Peliharaan\")\n",
    "plt.grid()\n",
    "plt.show()"
   ]
  },
  {
   "cell_type": "markdown",
   "id": "84ae9257",
   "metadata": {
    "slideshow": {
     "slide_type": "slide"
    }
   },
   "source": [
    "# Histogram"
   ]
  },
  {
   "cell_type": "code",
   "execution_count": 4,
   "id": "3b967b15",
   "metadata": {
    "ExecuteTime": {
     "end_time": "2022-03-10T03:05:48.068490Z",
     "start_time": "2022-03-10T03:05:47.390774Z"
    }
   },
   "outputs": [
    {
     "data": {
      "image/png": "[encoded data removed]",
      "text/plain": [
       "<Figure size 432x288 with 1 Axes>"
      ]
     },
     "metadata": {
      "needs_background": "light"
     },
     "output_type": "display_data"
    }
   ],
   "source": [
    "df.plot(y=\"usia\", kind=\"hist\", bins=[0, 20, 40, 60, 80, 100])\n",
    "\n",
    "plt.title(\"Histogram\")\n",
    "plt.xlabel(\"usia\")\n",
    "plt.ylabel(\"freq\")\n",
    "plt.grid(axis=\"y\")\n",
    "plt.show()"
   ]
  },
  {
   "cell_type": "code",
   "execution_count": 5,
   "id": "54e3bc82",
   "metadata": {
    "ExecuteTime": {
     "end_time": "2022-03-10T03:05:48.610288Z",
     "start_time": "2022-03-10T03:05:48.075154Z"
    }
   },
   "outputs": [
    {
     "data": {
      "image/png": "[encoded data removed]",
      "text/plain": [
       "<Figure size 432x288 with 1 Axes>"
      ]
     },
     "metadata": {
      "needs_background": "light"
     },
     "output_type": "display_data"
    }
   ],
   "source": [
    "df[\"usia\"].plot(kind=\"hist\", bins=[0, 20, 40, 60, 80, 100])\n",
    "\n",
    "plt.title(\"Histogram\")\n",
    "plt.xlabel(\"usia\")\n",
    "plt.ylabel(\"freq\")\n",
    "plt.grid(axis=\"y\")\n",
    "plt.show()"
   ]
  },
  {
   "cell_type": "markdown",
   "id": "9950738e",
   "metadata": {
    "slideshow": {
     "slide_type": "slide"
    }
   },
   "source": [
    "# Line Plot"
   ]
  },
  {
   "cell_type": "code",
   "execution_count": 6,
   "id": "3e02a86e",
   "metadata": {
    "ExecuteTime": {
     "end_time": "2022-03-10T03:05:49.060992Z",
     "start_time": "2022-03-10T03:05:48.617144Z"
    }
   },
   "outputs": [
    {
     "data": {
      "image/png": "[encoded data removed]",
      "text/plain": [
       "<Figure size 432x288 with 1 Axes>"
      ]
     },
     "metadata": {
      "needs_background": "light"
     },
     "output_type": "display_data"
    }
   ],
   "source": [
    "df.plot(kind=\"line\",\n",
    "        x=\"nama\",\n",
    "        y=\"n_anak\",\n",
    "        color=\"green\")\n",
    "\n",
    "plt.title(\"Line Plot\")\n",
    "plt.ylabel(\"Jumlah Anak\")\n",
    "plt.show()"
   ]
  },
  {
   "cell_type": "markdown",
   "id": "315ef80f",
   "metadata": {
    "slideshow": {
     "slide_type": "slide"
    }
   },
   "source": [
    "# Multiple Line Plot"
   ]
  },
  {
   "cell_type": "code",
   "execution_count": 7,
   "id": "43aa95ee",
   "metadata": {
    "ExecuteTime": {
     "end_time": "2022-03-10T03:05:50.409302Z",
     "start_time": "2022-03-10T03:05:49.065882Z"
    }
   },
   "outputs": [
    {
     "data": {
      "image/png": "[encoded data removed]",
      "text/plain": [
       "<Figure size 432x288 with 1 Axes>"
      ]
     },
     "metadata": {
      "needs_background": "light"
     },
     "output_type": "display_data"
    },
    {
     "data": {
      "image/png": "[encoded data removed]",
      "text/plain": [
       "<Figure size 432x288 with 1 Axes>"
      ]
     },
     "metadata": {
      "needs_background": "light"
     },
     "output_type": "display_data"
    }
   ],
   "source": [
    "df.plot(kind=\"line\", x=\"nama\", y=\"n_anak\", color=\"green\", title=\"Line Plot 1\", grid=True)\n",
    "df.plot(kind=\"line\", x=\"nama\", y=\"n_pets\", color=\"blue\", title=\"Line Plot 2\", grid=True)\n",
    "\n",
    "plt.show()"
   ]
  },
  {
   "cell_type": "code",
   "execution_count": 8,
   "id": "46a49ba7",
   "metadata": {
    "ExecuteTime": {
     "end_time": "2022-03-10T03:05:51.187362Z",
     "start_time": "2022-03-10T03:05:50.421877Z"
    }
   },
   "outputs": [
    {
     "data": {
      "image/png": "[encoded data removed]",
      "text/plain": [
       "<Figure size 432x288 with 1 Axes>"
      ]
     },
     "metadata": {
      "needs_background": "light"
     },
     "output_type": "display_data"
    }
   ],
   "source": [
    "ax = plt.gca()\n",
    "\n",
    "df.plot(kind=\"line\", x=\"nama\", y=\"n_anak\", color=\"green\", ax=ax)\n",
    "df.plot(kind=\"line\", x=\"nama\", y=\"n_pets\", color=\"blue\", ax=ax)\n",
    "\n",
    "plt.title(\"Line Plot\")\n",
    "plt.grid()\n",
    "plt.show()"
   ]
  },
  {
   "cell_type": "markdown",
   "id": "81d5b87e",
   "metadata": {
    "slideshow": {
     "slide_type": "slide"
    }
   },
   "source": [
    "# Bar Plot"
   ]
  },
  {
   "cell_type": "code",
   "execution_count": 9,
   "id": "083ad5e3",
   "metadata": {
    "ExecuteTime": {
     "end_time": "2022-03-10T03:05:51.622201Z",
     "start_time": "2022-03-10T03:05:51.193693Z"
    }
   },
   "outputs": [
    {
     "data": {
      "image/png": "[encoded data removed]",
      "text/plain": [
       "<Figure size 432x288 with 1 Axes>"
      ]
     },
     "metadata": {
      "needs_background": "light"
     },
     "output_type": "display_data"
    }
   ],
   "source": [
    "df.plot(kind=\"bar\", x=\"nama\", y=\"usia\", rot=45, legend=False)\n",
    "\n",
    "plt.title(\"Bar Plot\")\n",
    "plt.xlabel(\"nama\")\n",
    "plt.ylabel(\"usia\")\n",
    "plt.grid(axis=\"y\")\n",
    "plt.show()"
   ]
  },
  {
   "cell_type": "code",
   "execution_count": 10,
   "id": "e286fb42",
   "metadata": {
    "ExecuteTime": {
     "end_time": "2022-03-10T03:05:52.228220Z",
     "start_time": "2022-03-10T03:05:51.633664Z"
    }
   },
   "outputs": [
    {
     "data": {
      "image/png": "[encoded data removed]",
      "text/plain": [
       "<Figure size 432x288 with 1 Axes>"
      ]
     },
     "metadata": {
      "needs_background": "light"
     },
     "output_type": "display_data"
    }
   ],
   "source": [
    "df.groupby(\"propinsi\")[\"nama\"].count().plot(kind=\"bar\", color=\"gold\")\n",
    "\n",
    "plt.title(\"Bar Plot\")\n",
    "plt.ylabel(\"Freq\")\n",
    "plt.grid(axis=\"y\")\n",
    "plt.show()"
   ]
  },
  {
   "cell_type": "markdown",
   "id": "213595cd",
   "metadata": {
    "slideshow": {
     "slide_type": "slide"
    }
   },
   "source": [
    "# Satacked Bar Plot with two level groupby"
   ]
  },
  {
   "cell_type": "code",
   "execution_count": 11,
   "id": "aa693eb6",
   "metadata": {
    "ExecuteTime": {
     "end_time": "2022-03-10T03:05:52.291827Z",
     "start_time": "2022-03-10T03:05:52.237094Z"
    }
   },
   "outputs": [
    {
     "data": {
      "text/plain": [
       "propinsi  gender\n",
       "jabar     L         3\n",
       "jateng    L         1\n",
       "          P         1\n",
       "jatim     L         1\n",
       "          P         1\n",
       "dtype: int64"
      ]
     },
     "execution_count": 11,
     "metadata": {},
     "output_type": "execute_result"
    }
   ],
   "source": [
    "df.groupby([\"propinsi\", \"gender\"]).size()"
   ]
  },
  {
   "cell_type": "code",
   "execution_count": 12,
   "id": "1060b0c2",
   "metadata": {
    "ExecuteTime": {
     "end_time": "2022-03-10T03:05:52.368455Z",
     "start_time": "2022-03-10T03:05:52.301563Z"
    }
   },
   "outputs": [
    {
     "data": {
      "text/html": [
       "<div>\n",
       "<style scoped>\n",
       "    .dataframe tbody tr th:only-of-type {\n",
       "        vertical-align: middle;\n",
       "    }\n",
       "\n",
       "    .dataframe tbody tr th {\n",
       "        vertical-align: top;\n",
       "    }\n",
       "\n",
       "    .dataframe thead th {\n",
       "        text-align: right;\n",
       "    }\n",
       "</style>\n",
       "<table border=\"1\" class=\"dataframe\">\n",
       "  <thead>\n",
       "    <tr style=\"text-align: right;\">\n",
       "      <th>gender</th>\n",
       "      <th>L</th>\n",
       "      <th>P</th>\n",
       "    </tr>\n",
       "    <tr>\n",
       "      <th>propinsi</th>\n",
       "      <th></th>\n",
       "      <th></th>\n",
       "    </tr>\n",
       "  </thead>\n",
       "  <tbody>\n",
       "    <tr>\n",
       "      <th>jabar</th>\n",
       "      <td>3.0</td>\n",
       "      <td>NaN</td>\n",
       "    </tr>\n",
       "    <tr>\n",
       "      <th>jateng</th>\n",
       "      <td>1.0</td>\n",
       "      <td>1.0</td>\n",
       "    </tr>\n",
       "    <tr>\n",
       "      <th>jatim</th>\n",
       "      <td>1.0</td>\n",
       "      <td>1.0</td>\n",
       "    </tr>\n",
       "  </tbody>\n",
       "</table>\n",
       "</div>"
      ],
      "text/plain": [
       "gender      L    P\n",
       "propinsi          \n",
       "jabar     3.0  NaN\n",
       "jateng    1.0  1.0\n",
       "jatim     1.0  1.0"
      ]
     },
     "execution_count": 12,
     "metadata": {},
     "output_type": "execute_result"
    }
   ],
   "source": [
    "df.groupby([\"propinsi\", \"gender\"]).size().unstack()"
   ]
  },
  {
   "cell_type": "code",
   "execution_count": 13,
   "id": "b95f30ad",
   "metadata": {
    "ExecuteTime": {
     "end_time": "2022-03-10T03:05:53.051733Z",
     "start_time": "2022-03-10T03:05:52.377843Z"
    }
   },
   "outputs": [
    {
     "data": {
      "image/png": "[encoded data removed]",
      "text/plain": [
       "<Figure size 432x288 with 1 Axes>"
      ]
     },
     "metadata": {
      "needs_background": "light"
     },
     "output_type": "display_data"
    }
   ],
   "source": [
    "df.groupby([\"propinsi\", \"gender\"]).size().unstack().plot(kind=\"bar\", stacked=True)\n",
    "\n",
    "plt.title(\"Bar Plot\")\n",
    "plt.ylabel(\"Freq\")\n",
    "plt.show()"
   ]
  },
  {
   "cell_type": "code",
   "execution_count": 14,
   "id": "a41a5562",
   "metadata": {
    "ExecuteTime": {
     "end_time": "2022-03-10T03:05:53.097627Z",
     "start_time": "2022-03-10T03:05:53.060663Z"
    }
   },
   "outputs": [
    {
     "data": {
      "text/plain": [
       "gender  propinsi\n",
       "L       jabar       3\n",
       "        jateng      1\n",
       "        jatim       1\n",
       "P       jateng      1\n",
       "        jatim       1\n",
       "dtype: int64"
      ]
     },
     "execution_count": 14,
     "metadata": {},
     "output_type": "execute_result"
    }
   ],
   "source": [
    "df.groupby([\"gender\", \"propinsi\"]).size()"
   ]
  },
  {
   "cell_type": "code",
   "execution_count": 15,
   "id": "d05b7adb",
   "metadata": {
    "ExecuteTime": {
     "end_time": "2022-03-10T03:05:53.173856Z",
     "start_time": "2022-03-10T03:05:53.106296Z"
    }
   },
   "outputs": [
    {
     "data": {
      "text/html": [
       "<div>\n",
       "<style scoped>\n",
       "    .dataframe tbody tr th:only-of-type {\n",
       "        vertical-align: middle;\n",
       "    }\n",
       "\n",
       "    .dataframe tbody tr th {\n",
       "        vertical-align: top;\n",
       "    }\n",
       "\n",
       "    .dataframe thead th {\n",
       "        text-align: right;\n",
       "    }\n",
       "</style>\n",
       "<table border=\"1\" class=\"dataframe\">\n",
       "  <thead>\n",
       "    <tr style=\"text-align: right;\">\n",
       "      <th>propinsi</th>\n",
       "      <th>jabar</th>\n",
       "      <th>jateng</th>\n",
       "      <th>jatim</th>\n",
       "    </tr>\n",
       "    <tr>\n",
       "      <th>gender</th>\n",
       "      <th></th>\n",
       "      <th></th>\n",
       "      <th></th>\n",
       "    </tr>\n",
       "  </thead>\n",
       "  <tbody>\n",
       "    <tr>\n",
       "      <th>L</th>\n",
       "      <td>3.0</td>\n",
       "      <td>1.0</td>\n",
       "      <td>1.0</td>\n",
       "    </tr>\n",
       "    <tr>\n",
       "      <th>P</th>\n",
       "      <td>NaN</td>\n",
       "      <td>1.0</td>\n",
       "      <td>1.0</td>\n",
       "    </tr>\n",
       "  </tbody>\n",
       "</table>\n",
       "</div>"
      ],
      "text/plain": [
       "propinsi  jabar  jateng  jatim\n",
       "gender                        \n",
       "L           3.0     1.0    1.0\n",
       "P           NaN     1.0    1.0"
      ]
     },
     "execution_count": 15,
     "metadata": {},
     "output_type": "execute_result"
    }
   ],
   "source": [
    "df.groupby([\"gender\", \"propinsi\"]).size().unstack()"
   ]
  },
  {
   "cell_type": "code",
   "execution_count": 16,
   "id": "5bb7f6fb",
   "metadata": {
    "ExecuteTime": {
     "end_time": "2022-03-10T03:05:53.837543Z",
     "start_time": "2022-03-10T03:05:53.182610Z"
    }
   },
   "outputs": [
    {
     "data": {
      "image/png": "[encoded data removed]",
      "text/plain": [
       "<Figure size 432x288 with 1 Axes>"
      ]
     },
     "metadata": {
      "needs_background": "light"
     },
     "output_type": "display_data"
    }
   ],
   "source": [
    "df.groupby([\"gender\", \"propinsi\"]).size().unstack().plot(kind=\"bar\", stacked=True)\n",
    "\n",
    "plt.title(\"Bar Plot\")\n",
    "plt.ylabel(\"Freq\")\n",
    "plt.show()"
   ]
  },
  {
   "cell_type": "code",
   "execution_count": null,
   "id": "69c3a26f",
   "metadata": {},
   "outputs": [],
   "source": []
  }
 ],
 "metadata": {
  "celltoolbar": "Slideshow",
  "kernelspec": {
   "display_name": "Python 3 (ipykernel)",
   "language": "python",
   "name": "python3"
  },
  "language_info": {
   "codemirror_mode": {
    "name": "ipython",
    "version": 3
   },
   "file_extension": ".py",
   "mimetype": "text/x-python",
   "name": "python",
   "nbconvert_exporter": "python",
   "pygments_lexer": "ipython3",
   "version": "3.8.12"
  },
  "nbTranslate": {
   "displayLangs": [
    "*"
   ],
   "hotkey": "alt-t",
   "langInMainMenu": true,
   "sourceLang": "en",
   "targetLang": "fr",
   "useGoogleTranslate": true
  },
  "toc": {
   "base_numbering": 1,
   "nav_menu": {},
   "number_sections": true,
   "sideBar": true,
   "skip_h1_title": false,
   "title_cell": "Table of Contents",
   "title_sidebar": "Contents",
   "toc_cell": false,
   "toc_position": {},
   "toc_section_display": true,
   "toc_window_display": false
  }
 },
 "nbformat": 4,
 "nbformat_minor": 5
}
