{
 "cells": [
  {
   "cell_type": "markdown",
   "id": "7239b74f",
   "metadata": {
    "ExecuteTime": {
     "end_time": "2022-03-09T01:29:34.319884Z",
     "start_time": "2022-03-09T01:29:34.290252Z"
    }
   },
   "source": [
    "# Import Modules"
   ]
  },
  {
   "cell_type": "code",
   "execution_count": 1,
   "id": "6c10474c",
   "metadata": {
    "ExecuteTime": {
     "end_time": "2022-03-09T01:59:11.029389Z",
     "start_time": "2022-03-09T01:59:09.961227Z"
    }
   },
   "outputs": [
    {
     "name": "stdout",
     "output_type": "stream",
     "text": [
      "Matplotlib version: 3.5.1\n",
      "Numpy version: 1.21.5\n"
     ]
    }
   ],
   "source": [
    "import matplotlib\n",
    "import matplotlib.pyplot as plt\n",
    "import numpy as np\n",
    "\n",
    "print(f\"Matplotlib version: {matplotlib.__version__}\")\n",
    "print(f\"Numpy version: {np.__version__}\")"
   ]
  },
  {
   "cell_type": "markdown",
   "id": "7532d455",
   "metadata": {
    "slideshow": {
     "slide_type": "slide"
    }
   },
   "source": [
    "# Dataset"
   ]
  },
  {
   "cell_type": "code",
   "execution_count": 2,
   "id": "df816e83",
   "metadata": {
    "ExecuteTime": {
     "end_time": "2022-03-09T01:59:11.049197Z",
     "start_time": "2022-03-09T01:59:11.029915Z"
    }
   },
   "outputs": [
    {
     "data": {
      "text/plain": [
       "{'P': 10000, 'I': 20000, 'N': 30000, 'G': 40000}"
      ]
     },
     "execution_count": 2,
     "metadata": {},
     "output_type": "execute_result"
    }
   ],
   "source": [
    "data = {\"P\": 10000,\n",
    "        \"I\": 20000,\n",
    "        \"N\": 30000,\n",
    "        \"G\": 40000}\n",
    "\n",
    "data"
   ]
  },
  {
   "cell_type": "code",
   "execution_count": 3,
   "id": "7a510644",
   "metadata": {
    "ExecuteTime": {
     "end_time": "2022-03-09T01:59:11.069254Z",
     "start_time": "2022-03-09T01:59:11.049714Z"
    }
   },
   "outputs": [
    {
     "data": {
      "text/plain": [
       "('P', 'I', 'N', 'G')"
      ]
     },
     "execution_count": 3,
     "metadata": {},
     "output_type": "execute_result"
    }
   ],
   "source": [
    "items = tuple(data.keys())\n",
    "items"
   ]
  },
  {
   "cell_type": "code",
   "execution_count": 4,
   "id": "7c0ea039",
   "metadata": {
    "ExecuteTime": {
     "end_time": "2022-03-09T01:59:11.089267Z",
     "start_time": "2022-03-09T01:59:11.069781Z"
    }
   },
   "outputs": [
    {
     "data": {
      "text/plain": [
       "(10000, 20000, 30000, 40000)"
      ]
     },
     "execution_count": 4,
     "metadata": {},
     "output_type": "execute_result"
    }
   ],
   "source": [
    "freq = tuple(data.values())\n",
    "freq"
   ]
  },
  {
   "cell_type": "markdown",
   "id": "fa09afd6",
   "metadata": {
    "slideshow": {
     "slide_type": "slide"
    }
   },
   "source": [
    "# Simple Plot"
   ]
  },
  {
   "cell_type": "code",
   "execution_count": 5,
   "id": "ab4f49b4",
   "metadata": {
    "ExecuteTime": {
     "end_time": "2022-03-09T01:59:11.229411Z",
     "start_time": "2022-03-09T01:59:11.089782Z"
    }
   },
   "outputs": [
    {
     "data": {
      "image/png": "[encoded data removed]",
      "text/plain": [
       "<Figure size 432x288 with 1 Axes>"
      ]
     },
     "metadata": {
      "needs_background": "light"
     },
     "output_type": "display_data"
    }
   ],
   "source": [
    "fig, ax = plt.subplots()\n",
    "\n",
    "ax.barh(items, freq)\n",
    "\n",
    "plt.show()"
   ]
  },
  {
   "cell_type": "markdown",
   "id": "37b6cda9",
   "metadata": {
    "slideshow": {
     "slide_type": "slide"
    }
   },
   "source": [
    "# Style Settings"
   ]
  },
  {
   "cell_type": "code",
   "execution_count": 6,
   "id": "52f33320",
   "metadata": {
    "ExecuteTime": {
     "end_time": "2022-03-09T01:59:11.249291Z",
     "start_time": "2022-03-09T01:59:11.229957Z"
    }
   },
   "outputs": [
    {
     "data": {
      "text/plain": [
       "['Solarize_Light2',\n",
       " '_classic_test_patch',\n",
       " '_mpl-gallery',\n",
       " '_mpl-gallery-nogrid',\n",
       " 'bmh',\n",
       " 'classic',\n",
       " 'dark_background',\n",
       " 'fast',\n",
       " 'fivethirtyeight',\n",
       " 'ggplot',\n",
       " 'grayscale',\n",
       " 'seaborn',\n",
       " 'seaborn-bright',\n",
       " 'seaborn-colorblind',\n",
       " 'seaborn-dark',\n",
       " 'seaborn-dark-palette',\n",
       " 'seaborn-darkgrid',\n",
       " 'seaborn-deep',\n",
       " 'seaborn-muted',\n",
       " 'seaborn-notebook',\n",
       " 'seaborn-paper',\n",
       " 'seaborn-pastel',\n",
       " 'seaborn-poster',\n",
       " 'seaborn-talk',\n",
       " 'seaborn-ticks',\n",
       " 'seaborn-white',\n",
       " 'seaborn-whitegrid',\n",
       " 'tableau-colorblind10']"
      ]
     },
     "execution_count": 6,
     "metadata": {},
     "output_type": "execute_result"
    }
   ],
   "source": [
    "plt.style.available"
   ]
  },
  {
   "cell_type": "code",
   "execution_count": 7,
   "id": "be8b564c",
   "metadata": {
    "ExecuteTime": {
     "end_time": "2022-03-09T01:59:11.369158Z",
     "start_time": "2022-03-09T01:59:11.249811Z"
    }
   },
   "outputs": [
    {
     "data": {
      "image/png": "[encoded data removed]",
      "text/plain": [
       "<Figure size 432x288 with 1 Axes>"
      ]
     },
     "metadata": {},
     "output_type": "display_data"
    }
   ],
   "source": [
    "plt.style.use(\"ggplot\")\n",
    "\n",
    "fig, ax = plt.subplots()\n",
    "ax.barh(items, freq)\n",
    "\n",
    "plt.show()"
   ]
  },
  {
   "cell_type": "markdown",
   "id": "e7cfe344",
   "metadata": {
    "slideshow": {
     "slide_type": "subslide"
    }
   },
   "source": [
    "## Tick Label"
   ]
  },
  {
   "cell_type": "code",
   "execution_count": 8,
   "id": "1d68c015",
   "metadata": {
    "ExecuteTime": {
     "end_time": "2022-03-09T01:59:11.489391Z",
     "start_time": "2022-03-09T01:59:11.369674Z"
    }
   },
   "outputs": [
    {
     "data": {
      "image/png": "[encoded data removed]",
      "text/plain": [
       "<Figure size 432x288 with 1 Axes>"
      ]
     },
     "metadata": {},
     "output_type": "display_data"
    }
   ],
   "source": [
    "fig, ax = plt.subplots()\n",
    "ax.barh(items, freq)\n",
    "\n",
    "labels = ax.get_xticklabels()\n",
    "\n",
    "# set properties\n",
    "plt.setp(labels,\n",
    "         rotation=-45,\n",
    "         horizontalalignment=\"right\")\n",
    "\n",
    "plt.show()"
   ]
  },
  {
   "cell_type": "markdown",
   "id": "516fd98b",
   "metadata": {
    "slideshow": {
     "slide_type": "subslide"
    }
   },
   "source": [
    "## Tick Format"
   ]
  },
  {
   "cell_type": "code",
   "execution_count": 9,
   "id": "7a2ee304",
   "metadata": {
    "ExecuteTime": {
     "end_time": "2022-03-09T01:59:11.509198Z",
     "start_time": "2022-03-09T01:59:11.489914Z"
    }
   },
   "outputs": [],
   "source": [
    "from matplotlib.ticker import FuncFormatter"
   ]
  },
  {
   "cell_type": "code",
   "execution_count": 10,
   "id": "8144bd8e",
   "metadata": {
    "ExecuteTime": {
     "end_time": "2022-03-09T01:59:11.528950Z",
     "start_time": "2022-03-09T01:59:11.509748Z"
    }
   },
   "outputs": [],
   "source": [
    "def ribuan(x, pos):\n",
    "    return f\"{int(x / 1000)}K\""
   ]
  },
  {
   "cell_type": "code",
   "execution_count": 11,
   "id": "6e1839a8",
   "metadata": {
    "ExecuteTime": {
     "end_time": "2022-03-09T01:59:11.699363Z",
     "start_time": "2022-03-09T01:59:11.529975Z"
    }
   },
   "outputs": [
    {
     "data": {
      "image/png": "[encoded data removed]",
      "text/plain": [
       "<Figure size 432x288 with 1 Axes>"
      ]
     },
     "metadata": {},
     "output_type": "display_data"
    }
   ],
   "source": [
    "fig, ax = plt.subplots()\n",
    "\n",
    "ax.barh(items, freq)\n",
    "formatter = FuncFormatter(ribuan)\n",
    "ax.xaxis.set_major_formatter(formatter)\n",
    "\n",
    "ax.set(title=\"Horizontal Plot\",\n",
    "       xlabel=\"Freq\",\n",
    "       ylabel=\"Item\")\n",
    "\n",
    "plt.show()"
   ]
  },
  {
   "cell_type": "markdown",
   "id": "605e7c72",
   "metadata": {
    "slideshow": {
     "slide_type": "subslide"
    }
   },
   "source": [
    "## Vertical Line"
   ]
  },
  {
   "cell_type": "code",
   "execution_count": 12,
   "id": "3ec3858b",
   "metadata": {
    "ExecuteTime": {
     "end_time": "2022-03-09T01:59:11.815602Z",
     "start_time": "2022-03-09T01:59:11.699884Z"
    }
   },
   "outputs": [
    {
     "data": {
      "image/png": "[encoded data removed]",
      "text/plain": [
       "<Figure size 432x288 with 1 Axes>"
      ]
     },
     "metadata": {},
     "output_type": "display_data"
    }
   ],
   "source": [
    "plt.style.use(\"seaborn-bright\")\n",
    "fig, ax = plt.subplots()\n",
    "\n",
    "ax.barh(items, freq)\n",
    "ax.axvline(np.mean(freq),\n",
    "           ls=\"--\",\n",
    "           color=\"r\")\n",
    "ax.set(title=\"Vertical Line\",\n",
    "       xlabel=\"Freq\",\n",
    "       ylabel=\"Item\")\n",
    "\n",
    "plt.show()"
   ]
  },
  {
   "cell_type": "markdown",
   "id": "76774bab",
   "metadata": {
    "slideshow": {
     "slide_type": "subslide"
    }
   },
   "source": [
    "## Horizontal Line"
   ]
  },
  {
   "cell_type": "code",
   "execution_count": 13,
   "id": "c680c70d",
   "metadata": {
    "ExecuteTime": {
     "end_time": "2022-03-09T01:59:11.929242Z",
     "start_time": "2022-03-09T01:59:11.815602Z"
    }
   },
   "outputs": [
    {
     "data": {
      "image/png": "[encoded data removed]",
      "text/plain": [
       "<Figure size 432x288 with 1 Axes>"
      ]
     },
     "metadata": {},
     "output_type": "display_data"
    }
   ],
   "source": [
    "plt.style.use(\"seaborn-bright\")\n",
    "fig, ax = plt.subplots()\n",
    "\n",
    "ax.bar(items, freq)\n",
    "ax.axhline(np.mean(freq),\n",
    "           ls=\"--\",\n",
    "           color=\"r\")\n",
    "ax.set(title=\"Vertical Line\",\n",
    "       xlabel=\"Freq\",\n",
    "       ylabel=\"Item\")\n",
    "\n",
    "plt.show()"
   ]
  },
  {
   "cell_type": "markdown",
   "id": "9a6765c0",
   "metadata": {
    "slideshow": {
     "slide_type": "subslide"
    }
   },
   "source": [
    "# Save Plotting"
   ]
  },
  {
   "cell_type": "code",
   "execution_count": 14,
   "id": "fe6aa7ef",
   "metadata": {
    "ExecuteTime": {
     "end_time": "2022-03-09T01:59:11.948875Z",
     "start_time": "2022-03-09T01:59:11.930728Z"
    }
   },
   "outputs": [
    {
     "data": {
      "text/plain": [
       "{'eps': 'Encapsulated Postscript',\n",
       " 'jpg': 'Joint Photographic Experts Group',\n",
       " 'jpeg': 'Joint Photographic Experts Group',\n",
       " 'pdf': 'Portable Document Format',\n",
       " 'pgf': 'PGF code for LaTeX',\n",
       " 'png': 'Portable Network Graphics',\n",
       " 'ps': 'Postscript',\n",
       " 'raw': 'Raw RGBA bitmap',\n",
       " 'rgba': 'Raw RGBA bitmap',\n",
       " 'svg': 'Scalable Vector Graphics',\n",
       " 'svgz': 'Scalable Vector Graphics',\n",
       " 'tif': 'Tagged Image File Format',\n",
       " 'tiff': 'Tagged Image File Format'}"
      ]
     },
     "execution_count": 14,
     "metadata": {},
     "output_type": "execute_result"
    }
   ],
   "source": [
    "fig.canvas.get_supported_filetypes()"
   ]
  },
  {
   "cell_type": "code",
   "execution_count": 15,
   "id": "19dcd6ac",
   "metadata": {
    "ExecuteTime": {
     "end_time": "2022-03-09T01:59:12.189214Z",
     "start_time": "2022-03-09T01:59:11.950856Z"
    }
   },
   "outputs": [
    {
     "data": {
      "image/png": "[encoded data removed]",
      "text/plain": [
       "<Figure size 432x288 with 1 Axes>"
      ]
     },
     "metadata": {},
     "output_type": "display_data"
    }
   ],
   "source": [
    "plt.style.use(\"seaborn-bright\")\n",
    "fig, ax = plt.subplots()\n",
    "\n",
    "ax.bar(items, freq)\n",
    "ax.axhline(np.mean(freq),\n",
    "           ls=\"--\",\n",
    "           color=\"r\")\n",
    "ax.set(title=\"Vertical Line\",\n",
    "       xlabel=\"Freq\",\n",
    "       ylabel=\"Item\")\n",
    "\n",
    "fig.savefig(\"../images/vertical-barplot.png\",\n",
    "            transparent=True,\n",
    "            dpi=300)\n",
    "\n",
    "plt.show()"
   ]
  },
  {
   "cell_type": "code",
   "execution_count": null,
   "id": "2cb147ae",
   "metadata": {},
   "outputs": [],
   "source": []
  }
 ],
 "metadata": {
  "celltoolbar": "Slideshow",
  "kernelspec": {
   "display_name": "Python 3 (ipykernel)",
   "language": "python",
   "name": "python3"
  },
  "language_info": {
   "codemirror_mode": {
    "name": "ipython",
    "version": 3
   },
   "file_extension": ".py",
   "mimetype": "text/x-python",
   "name": "python",
   "nbconvert_exporter": "python",
   "pygments_lexer": "ipython3",
   "version": "3.8.12"
  },
  "nbTranslate": {
   "displayLangs": [
    "*"
   ],
   "hotkey": "alt-t",
   "langInMainMenu": true,
   "sourceLang": "en",
   "targetLang": "fr",
   "useGoogleTranslate": true
  },
  "toc": {
   "base_numbering": 1,
   "nav_menu": {},
   "number_sections": true,
   "sideBar": true,
   "skip_h1_title": false,
   "title_cell": "Table of Contents",
   "title_sidebar": "Contents",
   "toc_cell": false,
   "toc_position": {},
   "toc_section_display": true,
   "toc_window_display": false
  }
 },
 "nbformat": 4,
 "nbformat_minor": 5
}
